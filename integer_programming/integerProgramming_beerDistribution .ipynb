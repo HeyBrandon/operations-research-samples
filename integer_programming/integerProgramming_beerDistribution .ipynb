{
 "cells": [
  {
   "cell_type": "markdown",
   "metadata": {},
   "source": [
    "# Integer Programming \n",
    "### The Beer Distribution Problem using PuLP\n",
    "In this scenario we're looking to find which brewery warehouse should send shipments to each bars to minimize costs. There is a total of two warehouses(a and b) and a total of 5 bars. Each warehouse has a set amount of cases and each bar has a set amount to intake. "
   ]
  },
  {
   "cell_type": "code",
   "execution_count": 1,
   "metadata": {
    "collapsed": true
   },
   "outputs": [],
   "source": [
    "from pulp import *"
   ]
  },
  {
   "cell_type": "markdown",
   "metadata": {},
   "source": [
    "#### Setting supply nodes and number of units per"
   ]
  },
  {
   "cell_type": "code",
   "execution_count": 2,
   "metadata": {
    "collapsed": false
   },
   "outputs": [],
   "source": [
    "warehouses = ['a', 'b']\n",
    "supply = {'a': 1000, 'b': 4000}\n",
    "bars = ['1','2','3','4','5']\n",
    "\n",
    "# Demand for each demand node\n",
    "demand = {'1': 500, '2':900, '3':1800, '4':200, '5': 700}\n",
    "\n",
    "# Costs of each transportation path\n",
    "# Bars 1 2 3 4 5\n",
    "# List 1 = warehouse a \n",
    "# List 2 = warehouse b\n",
    "costs = [[2,4,5,2,1], [3,1,3,2,3]]"
   ]
  },
  {
   "cell_type": "markdown",
   "metadata": {},
   "source": [
    "<img src=\"http://www.coin-or.org/PuLP/_images/brewery_nodes.jpg\"/>"
   ]
  },
  {
   "cell_type": "code",
   "execution_count": 3,
   "metadata": {
    "collapsed": false
   },
   "outputs": [],
   "source": [
    "# Create a dictionary of costs\n",
    "costs = makeDict([warehouses, bars], costs,0)"
   ]
  },
  {
   "cell_type": "code",
   "execution_count": 4,
   "metadata": {
    "collapsed": false
   },
   "outputs": [
    {
     "data": {
      "text/plain": [
       "Beer Distribution Problem:\n",
       "MINIMIZE\n",
       "None\n",
       "VARIABLES"
      ]
     },
     "execution_count": 4,
     "metadata": {},
     "output_type": "execute_result"
    }
   ],
   "source": [
    "# Problem data, PuLP problem object creation for MIN\n",
    "prob = LpProblem(\"Beer Distribution Problem\", LpMinimize)\n",
    "prob"
   ]
  },
  {
   "cell_type": "code",
   "execution_count": 5,
   "metadata": {
    "collapsed": false
   },
   "outputs": [
    {
     "data": {
      "text/plain": [
       "[('a', '1'),\n",
       " ('a', '2'),\n",
       " ('a', '3'),\n",
       " ('a', '4'),\n",
       " ('a', '5'),\n",
       " ('b', '1'),\n",
       " ('b', '2'),\n",
       " ('b', '3'),\n",
       " ('b', '4'),\n",
       " ('b', '5')]"
      ]
     },
     "execution_count": 5,
     "metadata": {},
     "output_type": "execute_result"
    }
   ],
   "source": [
    "# Possible routes (transport)\n",
    "routes = [(w,b) for w in warehouses for b in bars]\n",
    "routes"
   ]
  },
  {
   "cell_type": "code",
   "execution_count": 6,
   "metadata": {
    "collapsed": false
   },
   "outputs": [
    {
     "data": {
      "text/plain": [
       "{'a': {'1': Route_a_1,\n",
       "  '2': Route_a_2,\n",
       "  '3': Route_a_3,\n",
       "  '4': Route_a_4,\n",
       "  '5': Route_a_5},\n",
       " 'b': {'1': Route_b_1,\n",
       "  '2': Route_b_2,\n",
       "  '3': Route_b_3,\n",
       "  '4': Route_b_4,\n",
       "  '5': Route_b_5}}"
      ]
     },
     "execution_count": 6,
     "metadata": {},
     "output_type": "execute_result"
    }
   ],
   "source": [
    "# Container for route variables \n",
    "vars_ = LpVariable.dicts(\"Route\",(warehouses, bars),0,None,LpInteger)\n",
    "vars_"
   ]
  },
  {
   "cell_type": "markdown",
   "metadata": {},
   "source": [
    "#### Objective function adding to prob "
   ]
  },
  {
   "cell_type": "code",
   "execution_count": 7,
   "metadata": {
    "collapsed": true
   },
   "outputs": [],
   "source": [
    "prob += lpSum([vars_[w][b]*costs[w][b] for (w,b) in routes]), \"Sum_of_Transportation_Costs\""
   ]
  },
  {
   "cell_type": "markdown",
   "metadata": {},
   "source": [
    "#### Supply Maximum constraints for each warehouse"
   ]
  },
  {
   "cell_type": "code",
   "execution_count": 8,
   "metadata": {
    "collapsed": false
   },
   "outputs": [],
   "source": [
    "for w in warehouses:\n",
    "    prob += lpSum([vars_[w][b] for b in bars]) <= supply[w], \"Sum_of_Products_out_of_Warehouse_%s\"%w"
   ]
  },
  {
   "cell_type": "markdown",
   "metadata": {},
   "source": [
    "#### Demand Minimum constraints for each bar"
   ]
  },
  {
   "cell_type": "code",
   "execution_count": 9,
   "metadata": {
    "collapsed": true
   },
   "outputs": [],
   "source": [
    "for b in bars:\n",
    "    prob += lpSum([vars_[w][b] for w in warehouses]) >= demand[b], \"Sum_of_Products_into_Bar%s\"%b"
   ]
  },
  {
   "cell_type": "code",
   "execution_count": 10,
   "metadata": {
    "collapsed": true
   },
   "outputs": [],
   "source": [
    "# write to .lp file\n",
    "prob.writeLP(\"BeerDistributionProblem.lp\")"
   ]
  },
  {
   "cell_type": "code",
   "execution_count": 11,
   "metadata": {
    "collapsed": false
   },
   "outputs": [
    {
     "data": {
      "text/plain": [
       "1"
      ]
     },
     "execution_count": 11,
     "metadata": {},
     "output_type": "execute_result"
    }
   ],
   "source": [
    "prob.solve()"
   ]
  },
  {
   "cell_type": "code",
   "execution_count": 12,
   "metadata": {
    "collapsed": false
   },
   "outputs": [
    {
     "name": "stdout",
     "output_type": "stream",
     "text": [
      "Status: Optimal\n"
     ]
    }
   ],
   "source": [
    "print(\"Status:\", LpStatus[prob.status])"
   ]
  },
  {
   "cell_type": "code",
   "execution_count": 13,
   "metadata": {
    "collapsed": false
   },
   "outputs": [
    {
     "name": "stdout",
     "output_type": "stream",
     "text": [
      "Route_a_1 = 300.0\n",
      "Route_a_2 = 0.0\n",
      "Route_a_3 = 0.0\n",
      "Route_a_4 = 0.0\n",
      "Route_a_5 = 700.0\n",
      "Route_b_1 = 200.0\n",
      "Route_b_2 = 900.0\n",
      "Route_b_3 = 1800.0\n",
      "Route_b_4 = 200.0\n",
      "Route_b_5 = 0.0\n"
     ]
    }
   ],
   "source": [
    "for v in prob.variables():\n",
    "    print(v.name, \"=\", v.varValue)"
   ]
  },
  {
   "cell_type": "code",
   "execution_count": 14,
   "metadata": {
    "collapsed": false
   },
   "outputs": [
    {
     "name": "stdout",
     "output_type": "stream",
     "text": [
      "Total cost of transportation =  8600.0\n"
     ]
    }
   ],
   "source": [
    "print(\"Total cost of transportation = \", value(prob.objective))"
   ]
  },
  {
   "cell_type": "markdown",
   "metadata": {},
   "source": [
    "## Resources\n",
    "* https://github.com/ruxkor/pulp-or/blob/master/examples/BeerDistributionProblem.py\n",
    "* http://www.coin-or.org/PuLP/CaseStudies/a_transportation_problem.html"
   ]
  }
 ],
 "metadata": {
  "kernelspec": {
   "display_name": "Python 3",
   "language": "python",
   "name": "python3"
  },
  "language_info": {
   "codemirror_mode": {
    "name": "ipython",
    "version": 3
   },
   "file_extension": ".py",
   "mimetype": "text/x-python",
   "name": "python",
   "nbconvert_exporter": "python",
   "pygments_lexer": "ipython3",
   "version": "3.4.4"
  }
 },
 "nbformat": 4,
 "nbformat_minor": 0
}

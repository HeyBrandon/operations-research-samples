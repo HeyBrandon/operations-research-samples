{
 "cells": [
  {
   "cell_type": "markdown",
   "metadata": {},
   "source": [
    "# Linear Programming\n",
    "Linear programming helps us find the best results given a set of constraints. For this sample problem I'll be using a scenario originally from the GNU Linear Programming kit(GLPK) where we will be finding the optimial amount of builing wooden soldiers and trains to help us maximize profits. We have constraints on the workforce as well as amount of one product that's allowed to be made due to demand. The constraints are: \n",
    "\n",
    "* (1) wood soldier requires 2hrs finishing labor \n",
    "* (1) wood train requires 1hr finishing labor \n",
    "* Per week there is 100hrs of finishing avaiable\n",
    "<hr>\n",
    "* (1) soldier requires 1hr of carpentry labor, equal to a train. \n",
    "* There is 80hrs of carpentry labor / week\n",
    "\n",
    "* Demand for soldiers is no more than 40 / week\n",
    "\n",
    "To help solve this problem we will be using linear programming with the tools GLPK and PuLP. GLPK is the GNU free software option for the Solver portion. And PuLP will be our open sourced python modeling framework we will use."
   ]
  },
  {
   "cell_type": "markdown",
   "metadata": {},
   "source": [
    "#### Conversion into equation:\n",
    "\n",
    "##### 2 * x1 + x2 <= 100 x1 + x2 <= 80 x1 <= 40"
   ]
  },
  {
   "cell_type": "code",
   "execution_count": 1,
   "metadata": {
    "collapsed": false
   },
   "outputs": [],
   "source": [
    "from pulp import *"
   ]
  },
  {
   "cell_type": "markdown",
   "metadata": {},
   "source": [
    "### Variables\n",
    "#### x1 is soldiers, which we have no more than 40 units\n",
    "#### x2 is trains, which we will set a limit of 1000 units \n",
    "These are PuLP variable objects so we can interact easier with the package functions"
   ]
  },
  {
   "cell_type": "code",
   "execution_count": 2,
   "metadata": {
    "collapsed": true
   },
   "outputs": [],
   "source": [
    "x1 = LpVariable(\"x1\", 0, 40)\n",
    "\n",
    "x2 = LpVariable(\"x2\", 0, 1000)"
   ]
  },
  {
   "cell_type": "markdown",
   "metadata": {},
   "source": [
    "### Problem\n",
    "Defining the linear programming problem as maximization"
   ]
  },
  {
   "cell_type": "code",
   "execution_count": 3,
   "metadata": {
    "collapsed": true
   },
   "outputs": [],
   "source": [
    "prob = LpProblem(\"problem\", LpMaximize)"
   ]
  },
  {
   "cell_type": "markdown",
   "metadata": {},
   "source": [
    "### Constraints\n",
    "Applying our constraints to our problem object"
   ]
  },
  {
   "cell_type": "code",
   "execution_count": 4,
   "metadata": {
    "collapsed": true
   },
   "outputs": [],
   "source": [
    "prob += 2 * x1 + x2 <= 100\n",
    "prob += x1 + x2 <= 80\n",
    "prob += x1 <= 40\n",
    "prob += x1 >= 0 \n",
    "prob += x2 >= 0 "
   ]
  },
  {
   "cell_type": "markdown",
   "metadata": {},
   "source": [
    "### Define Objective Function to maximize"
   ]
  },
  {
   "cell_type": "code",
   "execution_count": 5,
   "metadata": {
    "collapsed": true
   },
   "outputs": [],
   "source": [
    "prob += 3 * x1 + 2 * x2"
   ]
  },
  {
   "cell_type": "markdown",
   "metadata": {},
   "source": [
    "### Solve"
   ]
  },
  {
   "cell_type": "markdown",
   "metadata": {},
   "source": [
    "<strong>Important step here, you need GLPK for linear optimization. Using brew on OSX \"brew install homebrew/science/glpk\n",
    "\""
   ]
  },
  {
   "cell_type": "code",
   "execution_count": 6,
   "metadata": {
    "collapsed": false
   },
   "outputs": [],
   "source": [
    "status = prob.solve(GLPK(msg=0))"
   ]
  },
  {
   "cell_type": "code",
   "execution_count": 7,
   "metadata": {
    "collapsed": false
   },
   "outputs": [
    {
     "data": {
      "text/plain": [
       "'Optimal'"
      ]
     },
     "execution_count": 7,
     "metadata": {},
     "output_type": "execute_result"
    }
   ],
   "source": [
    "LpStatus[status]"
   ]
  },
  {
   "cell_type": "code",
   "execution_count": 8,
   "metadata": {
    "collapsed": false
   },
   "outputs": [
    {
     "data": {
      "text/plain": [
       "20.0"
      ]
     },
     "execution_count": 8,
     "metadata": {},
     "output_type": "execute_result"
    }
   ],
   "source": [
    "value(x1)"
   ]
  },
  {
   "cell_type": "code",
   "execution_count": 9,
   "metadata": {
    "collapsed": false
   },
   "outputs": [
    {
     "data": {
      "text/plain": [
       "60.0"
      ]
     },
     "execution_count": 9,
     "metadata": {},
     "output_type": "execute_result"
    }
   ],
   "source": [
    "value(x2)"
   ]
  },
  {
   "cell_type": "markdown",
   "metadata": {},
   "source": [
    "#### Make 20 soldiers and 60 trains with the labor restraints given"
   ]
  },
  {
   "cell_type": "markdown",
   "metadata": {},
   "source": [
    "## Resources:\n",
    "* http://www.ibm.com/developerworks/linux/library/l-glpk1/"
   ]
  }
 ],
 "metadata": {
  "kernelspec": {
   "display_name": "Python 3",
   "language": "python",
   "name": "python3"
  },
  "language_info": {
   "codemirror_mode": {
    "name": "ipython",
    "version": 3
   },
   "file_extension": ".py",
   "mimetype": "text/x-python",
   "name": "python",
   "nbconvert_exporter": "python",
   "pygments_lexer": "ipython3",
   "version": "3.4.4"
  }
 },
 "nbformat": 4,
 "nbformat_minor": 0
}
